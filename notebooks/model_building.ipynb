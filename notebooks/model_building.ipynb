{
 "cells": [
  {
   "cell_type": "markdown",
   "metadata": {},
   "source": [
    "Build a regression model."
   ]
  },
  {
   "cell_type": "code",
   "execution_count": 21,
   "metadata": {},
   "outputs": [],
   "source": [
    "import sqlite3\n",
    "import pandas as pd\n",
    "import statsmodels.api as sm"
   ]
  },
  {
   "cell_type": "code",
   "execution_count": 23,
   "metadata": {},
   "outputs": [],
   "source": [
    "# Define the database path\n",
    "db_path = r\"C:\\LHL\\LHL-Statistical-Modelling\\LHL-Statistical-Modelling\\Database\\data.db\""
   ]
  },
  {
   "cell_type": "code",
   "execution_count": 26,
   "metadata": {},
   "outputs": [
    {
     "name": "stdout",
     "output_type": "stream",
     "text": [
      "Data shape before filtering: (16893, 3)\n",
      "Data shape after filtering: (1883, 3)\n",
      "                            OLS Regression Results                            \n",
      "==============================================================================\n",
      "Dep. Variable:            Total_Slots   R-squared:                       0.007\n",
      "Model:                            OLS   Adj. R-squared:                  0.006\n",
      "Method:                 Least Squares   F-statistic:                     6.567\n",
      "Date:                Mon, 10 Feb 2025   Prob (F-statistic):            0.00144\n",
      "Time:                        17:35:51   Log-Likelihood:                -5995.9\n",
      "No. Observations:                1883   AIC:                         1.200e+04\n",
      "Df Residuals:                    1880   BIC:                         1.201e+04\n",
      "Df Model:                           2                                         \n",
      "Covariance Type:            nonrobust                                         \n",
      "===============================================================================\n",
      "                  coef    std err          t      P>|t|      [0.025      0.975]\n",
      "-------------------------------------------------------------------------------\n",
      "const           9.2190      0.836     11.023      0.000       7.579      10.859\n",
      "Reviews        -0.0477      0.019     -2.570      0.010      -0.084      -0.011\n",
      "Yelp_Rating    -0.4908      0.194     -2.528      0.012      -0.871      -0.110\n",
      "==============================================================================\n",
      "Omnibus:                     1149.436   Durbin-Watson:                   0.447\n",
      "Prob(Omnibus):                  0.000   Jarque-Bera (JB):            11843.054\n",
      "Skew:                           2.760   Prob(JB):                         0.00\n",
      "Kurtosis:                      13.976   Cond. No.                         53.2\n",
      "==============================================================================\n",
      "\n",
      "Notes:\n",
      "[1] Standard Errors assume that the covariance matrix of the errors is correctly specified.\n"
     ]
    }
   ],
   "source": [
    "# Connect to SQLite database\n",
    "conn = sqlite3.connect(db_path)\n",
    "\n",
    "try:\n",
    "    # Load only relevant columns from bars and bike_stations tables\n",
    "    query = \"\"\"\n",
    "    SELECT \n",
    "        bars.Yelp_Rating, \n",
    "        bars.Reviews, \n",
    "        bike_stations.Total_Slots\n",
    "    FROM bars\n",
    "    JOIN bike_stations ON bars.Bike_Station = bike_stations.Name\n",
    "    \"\"\"\n",
    "\n",
    "    # Load data into Pandas DataFrame\n",
    "    df = pd.read_sql(query, conn)\n",
    "\n",
    "finally:\n",
    "    # Close the database after data is loaded\n",
    "    conn.close()\n",
    "\n",
    "# Print dataset shape before processing\n",
    "print(\"Data shape before filtering:\", df.shape)\n",
    "\n",
    "# Removes rows where Yelp_Rating or Reviews are NULL or 0\n",
    "df = df.dropna(subset=[\"Yelp_Rating\", \"Reviews\"])\n",
    "df = df[(df[\"Yelp_Rating\"] > 0) & (df[\"Reviews\"] > 0)]\n",
    "\n",
    "# Print dataset shape after filtering\n",
    "print(\"Data shape after filtering:\", df.shape)\n",
    "\n",
    "# Define independent (X) and dependent (Y) variables\n",
    "X = df[[\"Reviews\", \"Yelp_Rating\"]]\n",
    "Y = df[\"Total_Slots\"]\n",
    "\n",
    "# Add a constant to the model (for the intercept term)\n",
    "X = sm.add_constant(X)\n",
    "\n",
    "# Ensure data isn't empty before running regression\n",
    "if X.shape[0] == 0 or Y.shape[0] == 0:\n",
    "    print(\"🚨 ERROR: Dataset is empty after filtering. Check SQL query or data filtering.\")\n",
    "else:\n",
    "    # Fit the OLS regression model\n",
    "    model = sm.OLS(Y, X).fit()\n",
    "    \n",
    "    # Display regression results summary\n",
    "    print(model.summary())"
   ]
  },
  {
   "cell_type": "markdown",
   "metadata": {},
   "source": [
    "# **Regression Results Interpretation**\n",
    "\n",
    "## **1. R-squared (0.007) – Model Fit**\n",
    "- The **R-squared value is very low (0.007)**, meaning the model explains only **0.7% of the variance** in `Total_Slots` based on `Reviews` and `Yelp_Rating`.  \n",
    "- This suggests that **these two variables are poor predictors** for determining the total number of slots at a bike station.  \n",
    "`Total_Slots`.\n",
    "\n",
    "---\n",
    "\n",
    "## **2. P-values – Statistical Significance of Variables**\n",
    "| Variable       | Coefficient | P-value  | Interpretation |\n",
    "|---------------|------------|---------|---------------|\n",
    "| **Reviews**   | -0.0477    | **0.010** | Statistically significant (p < 0.05). More reviews are slightly associated with **fewer total slots**, but the effect is small. |\n",
    "| **Yelp_Rating** | -0.4908 | **0.012** | Statistically significant (p < 0.05). Higher Yelp ratings are associated with **fewer total slots** at nearby bike stations. |\n",
    "| **Intercept** | 9.2190    | **0.000** | Significant, meaning the model’s baseline estimate (when `Reviews` and `Yelp_Rating` are zero) is reliable. |\n",
    "\n",
    "---\n",
    "\n",
    "## **3. Model Fit & F-Statistic**\n",
    "- **F-statistic: 6.567, p = 0.00144** → The model **as a whole** is statistically significant.\n",
    "- **However, given the very low R-squared**, even though the model is statistically valid, it has **low predictive power**.\n",
    "\n",
    "---\n",
    "\n",
    "## **4. Implications & Next Steps**\n",
    "- **The model is weak** → `Reviews` and `Yelp_Rating` do not strongly explain `Total_Slots`.\n",
    "\n",
    "---"
   ]
  },
  {
   "cell_type": "markdown",
   "metadata": {},
   "source": [
    "# Stretch"
   ]
  },
  {
   "cell_type": "markdown",
   "metadata": {},
   "source": [
    "How can you turn the regression model into a classification model?"
   ]
  },
  {
   "cell_type": "markdown",
   "metadata": {},
   "source": [
    "## **1. Problem Statement**\n",
    "The current regression model predicts a **continuous variable** (`Total_Slots`). To convert this into a **classification model**, need to **group `Total_Slots` into categories** and use a classification algorithm.\n",
    "\n",
    "---\n",
    "\n",
    "## **2. Steps to Convert Regression to Classification**\n",
    "### **Step 1: Define Classes for `Total_Slots`**\n",
    "Since `Total_Slots` is continuous, we will categorize it into **three discrete classes**:\n",
    "- **Low Capacity (`0`)** → `Total_Slots < 10`\n",
    "- **Medium Capacity (`1`)** → `10 ≤ Total_Slots ≤ 15`\n",
    "- **High Capacity (`2`)** → `Total_Slots > 15`\n",
    "\n",
    "This transforms the **regression target (`Total_Slots`) into a classification label**.\n",
    "\n",
    "---\n",
    "\n",
    "### **Step 2: Update the Target Variable (`Y`)**\n",
    "- Instead of predicting an exact slot number, we now **predict a category** (`Low`, `Medium`, `High`).\n",
    "- We apply a function that **assigns each row to one of the three classes** based on its `Total_Slots` value.\n",
    "\n",
    "---\n",
    "\n",
    "### **Step 3: Choose a Classification Model**\n",
    "**Logistic Regression**, which works well for **multi-class classification**.\n",
    "\n",
    "- **Why Logistic Regression?**  \n",
    "  - Simple and interpretable.\n",
    "  - Works well when the classes are **linearly separable**.\n",
    "  - Requires minimal hyperparameter tuning.\n",
    "\n",
    "---"
   ]
  },
  {
   "cell_type": "markdown",
   "metadata": {},
   "source": []
  }
 ],
 "metadata": {
  "kernelspec": {
   "display_name": "base",
   "language": "python",
   "name": "python3"
  },
  "language_info": {
   "codemirror_mode": {
    "name": "ipython",
    "version": 3
   },
   "file_extension": ".py",
   "mimetype": "text/x-python",
   "name": "python",
   "nbconvert_exporter": "python",
   "pygments_lexer": "ipython3",
   "version": "3.12.7"
  }
 },
 "nbformat": 4,
 "nbformat_minor": 4
}
