{
 "cells": [
  {
   "cell_type": "markdown",
   "metadata": {},
   "source": [
    "# CityBikes"
   ]
  },
  {
   "cell_type": "markdown",
   "metadata": {},
   "source": [
    "Send a request to CityBikes for the city of your choice. "
   ]
  },
  {
   "cell_type": "code",
   "execution_count": 11,
   "metadata": {},
   "outputs": [],
   "source": [
    "import requests\n",
    "import pandas as pd"
   ]
  },
  {
   "cell_type": "code",
   "execution_count": 12,
   "metadata": {},
   "outputs": [],
   "source": [
    "# Tokyo HelloCycling network ID\n",
    "tokyo_network_id = \"hellocycling-tokyo\"\n",
    "\n",
    "# Setting API for CityBikes\n",
    "API_URL = f\"https://api.citybik.es/v2/networks/{tokyo_network_id}\""
   ]
  },
  {
   "cell_type": "code",
   "execution_count": 13,
   "metadata": {},
   "outputs": [],
   "source": [
    "# GET request to CityBikes\n",
    "response = requests.get(API_URL)"
   ]
  },
  {
   "cell_type": "code",
   "execution_count": 14,
   "metadata": {},
   "outputs": [],
   "source": [
    "# Check if request was successful\n",
    "if response.status_code == 200:\n",
    "    data = response.json()"
   ]
  },
  {
   "cell_type": "markdown",
   "metadata": {},
   "source": [
    "Parse through the response to get the details you want for the bike stations in that city (latitude, longitude, number of bikes). "
   ]
  },
  {
   "cell_type": "code",
   "execution_count": 18,
   "metadata": {},
   "outputs": [],
   "source": [
    "    # Extract station details\n",
    "    stations = data['network']['stations']\n",
    "    \n",
    "    # Parse station data into a list\n",
    "    bike_data = []\n",
    "    for station in stations:\n",
    "        available_bikes = station.get(\"free_bikes\", 0)\n",
    "        empty_slots = station.get(\"empty_slots\", 0)\n",
    "\n",
    "        # Calculate total slots (available bikes + empty slots)\n",
    "        total_slots = available_bikes + empty_slots\n",
    "\n",
    "        bike_data.append({\n",
    "            \"Name\": station.get(\"name\", \"Unknown\"),\n",
    "            \"Latitude\": station.get(\"latitude\", None),\n",
    "            \"Longitude\": station.get(\"longitude\", None),\n",
    "            \"Available Bikes\": available_bikes,\n",
    "            \"Total Slots\": total_slots\n",
    "        })"
   ]
  },
  {
   "cell_type": "markdown",
   "metadata": {},
   "source": [
    "Put your parsed results into a DataFrame."
   ]
  },
  {
   "cell_type": "code",
   "execution_count": 19,
   "metadata": {},
   "outputs": [],
   "source": [
    "    # Convert list to DataFrame\n",
    "    df = pd.DataFrame(bike_data)"
   ]
  },
  {
   "cell_type": "code",
   "execution_count": 20,
   "metadata": {},
   "outputs": [
    {
     "name": "stdout",
     "output_type": "stream",
     "text": [
      "              Name   Latitude   Longitude  Available Bikes  Total Slots\n",
      "0            北八王子駅  35.669747  139.363454               10           10\n",
      "1          湯の森　深大湯  35.677585  139.546591                7            7\n",
      "2  池之端2丁目 上野動物公園西​  35.714957  139.767394                3            6\n",
      "3        ビイルーム自由が丘  35.600717  139.665204                3            4\n",
      "4   ローソン　板橋東坂下一丁目店  35.782192  139.690197                4            5\n"
     ]
    }
   ],
   "source": [
    "# Display DataFrame\n",
    "print(df.head())"
   ]
  },
  {
   "cell_type": "code",
   "execution_count": 21,
   "metadata": {},
   "outputs": [],
   "source": [
    "df.to_csv(\"tokyo_bike_stations.csv\", index=False)"
   ]
  },
  {
   "cell_type": "code",
   "execution_count": null,
   "metadata": {},
   "outputs": [],
   "source": []
  }
 ],
 "metadata": {
  "kernelspec": {
   "display_name": "base",
   "language": "python",
   "name": "python3"
  },
  "language_info": {
   "codemirror_mode": {
    "name": "ipython",
    "version": 3
   },
   "file_extension": ".py",
   "mimetype": "text/x-python",
   "name": "python",
   "nbconvert_exporter": "python",
   "pygments_lexer": "ipython3",
   "version": "3.12.7"
  }
 },
 "nbformat": 4,
 "nbformat_minor": 4
}
