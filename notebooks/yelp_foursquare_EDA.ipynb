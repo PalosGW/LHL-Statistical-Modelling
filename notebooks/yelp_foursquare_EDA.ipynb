{
 "cells": [
  {
   "cell_type": "code",
   "execution_count": 4,
   "metadata": {},
   "outputs": [],
   "source": [
    "# imports\n",
    "import requests\n",
    "import pandas as pd\n",
    "import os"
   ]
  },
  {
   "cell_type": "code",
   "execution_count": 2,
   "metadata": {},
   "outputs": [],
   "source": [
    "# API Keys\n",
    "YELP_API = \"XZ-UMLXPORVPWbq6-U9Oo9g0d_2ShF4aYybxDaU9N8q8y9yNSILkSvW7pwfnIndjmh5qJV3xWNa0dI7pd_KigdckYq18c-OBveoSb7cygJf_4nwISszoadXzWZGnZ3Yx\"\n",
    "FOURSQUARE_API_KEY = \"fsq3bxBWPRpRzw4UeoHiJZeY+OAzqHVhXy23pls8ppHrh60=\"\n",
    "\n",
    "if not YELP_API or not FOURSQUARE_API_KEY:\n",
    "    raise ValueError(\"API keys not found. Ensure YELP_API and FOURSQUARE_API_KEY are set as environment variables.\")"
   ]
  },
  {
   "cell_type": "markdown",
   "metadata": {},
   "source": [
    "# Foursquare"
   ]
  },
  {
   "cell_type": "markdown",
   "metadata": {},
   "source": [
    "Send a request to Foursquare with a small radius (1000m) for all the bike stations in your city of choice. "
   ]
  },
  {
   "cell_type": "code",
   "execution_count": 16,
   "metadata": {},
   "outputs": [],
   "source": [
    "# Load bike stations DataFrame\n",
    "df_bike_stations = pd.read_csv(\"tokyo_bike_stations.csv\")\n",
    "\n",
    "# Convert bike stations to list of dictionaries (all stations, no limit)\n",
    "station_locations = df_bike_stations.to_dict(orient=\"records\")"
   ]
  },
  {
   "cell_type": "code",
   "execution_count": 18,
   "metadata": {},
   "outputs": [],
   "source": [
    "# Foursquare API Function\n",
    "def get_foursquare_results(latitude, longitude, category=\"bar\"):\n",
    "    url = \"https://api.foursquare.com/v3/places/search\"\n",
    "    headers = {\"Authorization\": FOURSQUARE_API_KEY}\n",
    "    params = {\n",
    "        \"query\": category,\n",
    "        \"ll\": f\"{latitude},{longitude}\",\n",
    "        \"radius\": 1000,\n",
    "        \"limit\": 50\n",
    "    }\n",
    "    response = requests.get(url, headers=headers, params=params)\n",
    "    return response.json().get(\"results\", []) if response.status_code == 200 else []"
   ]
  },
  {
   "cell_type": "markdown",
   "metadata": {},
   "source": [
    "Parse through the response to get the POI (such as restaurants, bars, etc) details you want (ratings, name, location, etc)"
   ]
  },
  {
   "cell_type": "code",
   "execution_count": 19,
   "metadata": {},
   "outputs": [],
   "source": [
    "# Collect data\n",
    "foursquare_data = []\n",
    "\n",
    "for station in station_locations:\n",
    "    lat, lon = station[\"Latitude\"], station[\"Longitude\"]\n",
    "\n",
    "    # Foursquare API results\n",
    "    foursquare_results = get_foursquare_results(lat, lon)\n",
    "    for place in foursquare_results:\n",
    "        foursquare_data.append({\n",
    "            \"Bike Station\": station[\"Name\"],\n",
    "            \"Name\": place[\"name\"],\n",
    "            \"Latitude\": place[\"geocodes\"][\"main\"][\"latitude\"],\n",
    "            \"Longitude\": place[\"geocodes\"][\"main\"][\"longitude\"],\n",
    "            \"Category\": place[\"categories\"][0][\"name\"] if place.get(\"categories\") else \"N/A\",\n",
    "            \"Address\": place[\"location\"].get(\"formatted_address\", \"N/A\")\n",
    "        })"
   ]
  },
  {
   "cell_type": "markdown",
   "metadata": {},
   "source": [
    "Put your parsed results into a DataFrame"
   ]
  },
  {
   "cell_type": "code",
   "execution_count": 27,
   "metadata": {},
   "outputs": [],
   "source": [
    "# Convert to Dataframe\n",
    "df_foursquare = pd.DataFrame(foursquare_data)\n",
    "\n",
    "# Drop Duplicates\n",
    "df_foursquare = df_foursquare.drop_duplicates(subset=[\"Name\", \"Latitude\", \"Longitude\"])\n",
    "\n",
    "# Save to CSV\n",
    "df_foursquare.to_csv(\"foursquare_results_final.csv\", index=False)"
   ]
  },
  {
   "cell_type": "markdown",
   "metadata": {},
   "source": [
    "# Yelp"
   ]
  },
  {
   "cell_type": "markdown",
   "metadata": {},
   "source": [
    "Send a request to Yelp with a small radius (1000m) for all the bike stations in your city of choice. "
   ]
  },
  {
   "cell_type": "code",
   "execution_count": 24,
   "metadata": {},
   "outputs": [],
   "source": [
    "# Yelp API Function\n",
    "def get_yelp_results(latitude, longitude, term=\"bars\"):\n",
    "    url = \"https://api.yelp.com/v3/businesses/search\"\n",
    "    headers = {\"Authorization\": f\"Bearer {YELP_API}\"}\n",
    "    params = {\n",
    "        \"term\": term,  # Can be 'restaurants', 'bars', 'coffee'\n",
    "        \"latitude\": latitude,\n",
    "        \"longitude\": longitude,\n",
    "        \"radius\": 1000,  # Search within a 1 km radius\n",
    "        \"limit\": 50  # Max limit per request\n",
    "    }\n",
    "    response = requests.get(url, headers=headers, params=params)\n",
    "    return response.json().get(\"businesses\", []) if response.status_code == 200 else []"
   ]
  },
  {
   "cell_type": "markdown",
   "metadata": {},
   "source": [
    "Parse through the response to get the POI (such as restaurants, bars, etc) details you want (ratings, name, location, etc)"
   ]
  },
  {
   "cell_type": "code",
   "execution_count": 25,
   "metadata": {},
   "outputs": [],
   "source": [
    "# Collect Data\n",
    "yelp_data = []\n",
    "\n",
    "for station in station_locations:\n",
    "    lat, lon = station[\"Latitude\"], station[\"Longitude\"]\n",
    "    \n",
    "    # Yelp API results\n",
    "    yelp_results = get_yelp_results(lat, lon)\n",
    "    for business in yelp_results:\n",
    "        yelp_data.append({\n",
    "            \"Bike Station\": station[\"Name\"],\n",
    "            \"Name\": business[\"name\"],\n",
    "            \"Latitude\": business[\"coordinates\"][\"latitude\"],\n",
    "            \"Longitude\": business[\"coordinates\"][\"longitude\"],\n",
    "            \"Rating\": business.get(\"rating\", \"N/A\"),\n",
    "            \"Review Count\": business.get(\"review_count\", 0),\n",
    "            \"Address\": \", \".join(business[\"location\"][\"display_address\"])\n",
    "        })"
   ]
  },
  {
   "cell_type": "markdown",
   "metadata": {},
   "source": [
    "Put your parsed results into a DataFrame"
   ]
  },
  {
   "cell_type": "code",
   "execution_count": 28,
   "metadata": {},
   "outputs": [],
   "source": [
    "# Convert to Dataframe\n",
    "df_yelp = pd.DataFrame(yelp_data)\n",
    "\n",
    "# Remove duplicates\n",
    "df_yelp = df_yelp.drop_duplicates(subset=[\"Name\", \"Latitude\", \"Longitude\"])\n",
    "\n",
    "# Save to CSV\n",
    "df_yelp.to_csv(\"yelp_results.csv\", index=False)"
   ]
  },
  {
   "cell_type": "markdown",
   "metadata": {},
   "source": [
    "# Comparing Results"
   ]
  },
  {
   "cell_type": "markdown",
   "metadata": {},
   "source": [
    "Which API provided you with more complete data? Provide an explanation. "
   ]
  },
  {
   "cell_type": "markdown",
   "metadata": {},
   "source": [
    "```\n",
    "Comparing the two results, Yelp provided the more complete information as it included all the data the Foursquare api did with rating and review count. The only difference is that the Foursquare API did provide the category specifying bar which Yelp did not provide\n",
    "```"
   ]
  },
  {
   "cell_type": "markdown",
   "metadata": {},
   "source": [
    "Get the top 10 restaurants according to their rating"
   ]
  },
  {
   "cell_type": "code",
   "execution_count": 30,
   "metadata": {},
   "outputs": [],
   "source": [
    "# using the yelp results, This rating will not only go off of review but review count as well to add validity\n",
    "df_yelp[\"Rating\"] = pd.to_numeric(df_yelp[\"Rating\"], errors=\"coerce\")\n",
    "df_yelp[\"Review Count\"] = pd.to_numeric(df_yelp[\"Review Count\"], errors=\"coerce\")"
   ]
  },
  {
   "cell_type": "code",
   "execution_count": 31,
   "metadata": {},
   "outputs": [],
   "source": [
    "# Remove rows with missing values in Rating or Review Count\n",
    "df_yelp = df_yelp.dropna(subset=[\"Rating\", \"Review Count\"])"
   ]
  },
  {
   "cell_type": "code",
   "execution_count": 32,
   "metadata": {},
   "outputs": [],
   "source": [
    "# Sort by Rating (highest first) and Review Count (highest first)\n",
    "df_top_bars = df_yelp.sort_values(by=[\"Rating\", \"Review Count\"], ascending=[False, False]).head(10)"
   ]
  },
  {
   "cell_type": "code",
   "execution_count": 33,
   "metadata": {},
   "outputs": [
    {
     "data": {
      "text/html": [
       "<div>\n",
       "<style scoped>\n",
       "    .dataframe tbody tr th:only-of-type {\n",
       "        vertical-align: middle;\n",
       "    }\n",
       "\n",
       "    .dataframe tbody tr th {\n",
       "        vertical-align: top;\n",
       "    }\n",
       "\n",
       "    .dataframe thead th {\n",
       "        text-align: right;\n",
       "    }\n",
       "</style>\n",
       "<table border=\"1\" class=\"dataframe\">\n",
       "  <thead>\n",
       "    <tr style=\"text-align: right;\">\n",
       "      <th></th>\n",
       "      <th>Bike Station</th>\n",
       "      <th>Name</th>\n",
       "      <th>Latitude</th>\n",
       "      <th>Longitude</th>\n",
       "      <th>Rating</th>\n",
       "      <th>Review Count</th>\n",
       "      <th>Address</th>\n",
       "    </tr>\n",
       "  </thead>\n",
       "  <tbody>\n",
       "    <tr>\n",
       "      <th>8832</th>\n",
       "      <td>ロアール四谷</td>\n",
       "      <td>Shinjuku Cactus</td>\n",
       "      <td>35.691467</td>\n",
       "      <td>139.712848</td>\n",
       "      <td>5.0</td>\n",
       "      <td>49</td>\n",
       "      <td>新宿1-30-12, ニューホワイトビルB1, Shinjuku, 東京都 〒160-002...</td>\n",
       "    </tr>\n",
       "    <tr>\n",
       "      <th>23964</th>\n",
       "      <td>ル・サイク三田店</td>\n",
       "      <td>Bar Starman</td>\n",
       "      <td>35.662978</td>\n",
       "      <td>139.734341</td>\n",
       "      <td>5.0</td>\n",
       "      <td>15</td>\n",
       "      <td>六本木3-13-3, プチビル3F, Minato, 東京都 〒106-0032, Japan</td>\n",
       "    </tr>\n",
       "    <tr>\n",
       "      <th>17721</th>\n",
       "      <td>パラッツォ9ルーリヨ</td>\n",
       "      <td>BAR ASYL</td>\n",
       "      <td>35.693950</td>\n",
       "      <td>139.704856</td>\n",
       "      <td>5.0</td>\n",
       "      <td>11</td>\n",
       "      <td>歌舞伎町1-1-8, Shinjuku, 東京都 〒160-0021, Japan</td>\n",
       "    </tr>\n",
       "    <tr>\n",
       "      <th>15988</th>\n",
       "      <td>KM新宿ビル(西武新宿駅近辺)</td>\n",
       "      <td>SHISHA TOKYO</td>\n",
       "      <td>35.699641</td>\n",
       "      <td>139.697791</td>\n",
       "      <td>5.0</td>\n",
       "      <td>10</td>\n",
       "      <td>百人町1- 23-22, 2F, Shinjuku, 東京都 〒169-0073, Japan</td>\n",
       "    </tr>\n",
       "    <tr>\n",
       "      <th>39260</th>\n",
       "      <td>京王プラザホテル</td>\n",
       "      <td>Edy's Bar</td>\n",
       "      <td>35.690058</td>\n",
       "      <td>139.699996</td>\n",
       "      <td>5.0</td>\n",
       "      <td>10</td>\n",
       "      <td>歌舞伎町2-32-4, 柏崎造園ビル 1F, Shinjuku, 東京都 〒160-0021...</td>\n",
       "    </tr>\n",
       "    <tr>\n",
       "      <th>10944</th>\n",
       "      <td>いちご西参道ビル</td>\n",
       "      <td>BAR Cocktail Book Shinjuku</td>\n",
       "      <td>35.696067</td>\n",
       "      <td>139.698053</td>\n",
       "      <td>5.0</td>\n",
       "      <td>9</td>\n",
       "      <td>西新宿7-5-5, プラザ西新宿 2F, Shinjuku, 東京都 〒160-0023, ...</td>\n",
       "    </tr>\n",
       "    <tr>\n",
       "      <th>14330</th>\n",
       "      <td>東洋カーマックス新宿御苑前</td>\n",
       "      <td>Bar Cinema Club</td>\n",
       "      <td>35.694136</td>\n",
       "      <td>139.704546</td>\n",
       "      <td>5.0</td>\n",
       "      <td>8</td>\n",
       "      <td>歌舞伎町1-1-8, 花園3番街, Shinjuku, 東京都 〒160-0021, Japan</td>\n",
       "    </tr>\n",
       "    <tr>\n",
       "      <th>2061</th>\n",
       "      <td>コインパーク平河町2丁目第2</td>\n",
       "      <td>Bar &amp; Cafe Code Name Mixology Akasaka</td>\n",
       "      <td>35.673779</td>\n",
       "      <td>139.737427</td>\n",
       "      <td>5.0</td>\n",
       "      <td>7</td>\n",
       "      <td>赤坂3-14-3, 渡林赤坂ビル　2F, Minato, 東京都 〒107-0052, Japan</td>\n",
       "    </tr>\n",
       "    <tr>\n",
       "      <th>15975</th>\n",
       "      <td>KM新宿ビル(西武新宿駅近辺)</td>\n",
       "      <td>Hidachisō Senya</td>\n",
       "      <td>35.699631</td>\n",
       "      <td>139.699907</td>\n",
       "      <td>5.0</td>\n",
       "      <td>7</td>\n",
       "      <td>百人町1-9-14, Shinjuku, 東京都 〒169-0073, Japan</td>\n",
       "    </tr>\n",
       "    <tr>\n",
       "      <th>169</th>\n",
       "      <td>アイパーク駐車場 世田谷代田南口第1</td>\n",
       "      <td>Beer Bar Ushitora Ichigo</td>\n",
       "      <td>35.662666</td>\n",
       "      <td>139.665626</td>\n",
       "      <td>5.0</td>\n",
       "      <td>6</td>\n",
       "      <td>代田6-3-27, アゼリアハウス1F, Setagaya, 東京都 〒155-0033, ...</td>\n",
       "    </tr>\n",
       "  </tbody>\n",
       "</table>\n",
       "</div>"
      ],
      "text/plain": [
       "             Bike Station                                    Name   Latitude  \\\n",
       "8832               ロアール四谷                         Shinjuku Cactus  35.691467   \n",
       "23964            ル・サイク三田店                             Bar Starman  35.662978   \n",
       "17721          パラッツォ9ルーリヨ                                BAR ASYL  35.693950   \n",
       "15988     KM新宿ビル(西武新宿駅近辺)                            SHISHA TOKYO  35.699641   \n",
       "39260            京王プラザホテル                               Edy's Bar  35.690058   \n",
       "10944            いちご西参道ビル              BAR Cocktail Book Shinjuku  35.696067   \n",
       "14330       東洋カーマックス新宿御苑前                         Bar Cinema Club  35.694136   \n",
       "2061       コインパーク平河町2丁目第2   Bar & Cafe Code Name Mixology Akasaka  35.673779   \n",
       "15975     KM新宿ビル(西武新宿駅近辺)                         Hidachisō Senya  35.699631   \n",
       "169    アイパーク駐車場 世田谷代田南口第1                Beer Bar Ushitora Ichigo  35.662666   \n",
       "\n",
       "        Longitude  Rating  Review Count  \\\n",
       "8832   139.712848     5.0            49   \n",
       "23964  139.734341     5.0            15   \n",
       "17721  139.704856     5.0            11   \n",
       "15988  139.697791     5.0            10   \n",
       "39260  139.699996     5.0            10   \n",
       "10944  139.698053     5.0             9   \n",
       "14330  139.704546     5.0             8   \n",
       "2061   139.737427     5.0             7   \n",
       "15975  139.699907     5.0             7   \n",
       "169    139.665626     5.0             6   \n",
       "\n",
       "                                                 Address  \n",
       "8832   新宿1-30-12, ニューホワイトビルB1, Shinjuku, 東京都 〒160-002...  \n",
       "23964    六本木3-13-3, プチビル3F, Minato, 東京都 〒106-0032, Japan  \n",
       "17721          歌舞伎町1-1-8, Shinjuku, 東京都 〒160-0021, Japan  \n",
       "15988    百人町1- 23-22, 2F, Shinjuku, 東京都 〒169-0073, Japan  \n",
       "39260  歌舞伎町2-32-4, 柏崎造園ビル 1F, Shinjuku, 東京都 〒160-0021...  \n",
       "10944  西新宿7-5-5, プラザ西新宿 2F, Shinjuku, 東京都 〒160-0023, ...  \n",
       "14330   歌舞伎町1-1-8, 花園3番街, Shinjuku, 東京都 〒160-0021, Japan  \n",
       "2061   赤坂3-14-3, 渡林赤坂ビル　2F, Minato, 東京都 〒107-0052, Japan  \n",
       "15975          百人町1-9-14, Shinjuku, 東京都 〒169-0073, Japan  \n",
       "169    代田6-3-27, アゼリアハウス1F, Setagaya, 東京都 〒155-0033, ...  "
      ]
     },
     "execution_count": 33,
     "metadata": {},
     "output_type": "execute_result"
    }
   ],
   "source": [
    "df_top_bars"
   ]
  }
 ],
 "metadata": {
  "kernelspec": {
   "display_name": "base",
   "language": "python",
   "name": "python3"
  },
  "language_info": {
   "codemirror_mode": {
    "name": "ipython",
    "version": 3
   },
   "file_extension": ".py",
   "mimetype": "text/x-python",
   "name": "python",
   "nbconvert_exporter": "python",
   "pygments_lexer": "ipython3",
   "version": "3.12.7"
  }
 },
 "nbformat": 4,
 "nbformat_minor": 4
}
